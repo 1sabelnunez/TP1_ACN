{
 "cells": [
  {
   "cell_type": "markdown",
   "metadata": {},
   "source": [
    "# TP1 ACN 2025 – Simulación AEP\n",
    "Este notebook usa `motor.py` \n"
   ]
  },
  {
   "cell_type": "markdown",
   "id": "a2a69036",
   "metadata": {},
   "source": [
    "Importamos las librerías necesarias:"
   ]
  },
  {
   "cell_type": "code",
   "execution_count": 1,
   "id": "afb9d2db",
   "metadata": {},
   "outputs": [],
   "source": [
    "import numpy as np\n",
    "from math import comb, exp, factorial\n",
    "import matplotlib.pyplot as plt\n",
    "from importlib import reload\n",
    "import pandas as pd\n",
    "import seaborn as sns\n",
    "import motor; reload(motor)\n",
    "from motor import SimulationConfig, AEPSimulator, run_batch, ideal_time_minutes\n",
    "ideal_time_minutes()\n",
    "import importlib"
   ]
  },
  {
   "cell_type": "markdown",
   "id": "a705b032",
   "metadata": {},
   "source": [
    "## Ejercicio 1 - Simulación base\n",
    "Simulación con $\\lambda=0.1$ para visualizar resultados."
   ]
  },
  {
   "cell_type": "code",
   "execution_count": 2,
   "id": "65e5813a",
   "metadata": {},
   "outputs": [],
   "source": [
    "cfg = SimulationConfig(lambda_per_min=0.1, seed=42)\n",
    "sim = AEPSimulator(cfg)\n",
    "out = sim.run()"
   ]
  },
  {
   "cell_type": "code",
   "execution_count": 3,
   "id": "55ffb9d1",
   "metadata": {},
   "outputs": [
    {
     "name": "stdout",
     "output_type": "stream",
     "text": [
      "Resultados de la simulación:\n",
      "Aviones aterrizados: 81\n",
      "Aviones desviados: 33\n",
      "Demora promedio: 0.30 minutos\n",
      "Go-arounds: 45\n",
      "Tiempo total en congestión: 61 min\n"
     ]
    }
   ],
   "source": [
    "print(\"Resultados de la simulación:\")\n",
    "print(f\"Aviones aterrizados: {out.landed}\")\n",
    "print(f\"Aviones desviados: {out.diverted}\")\n",
    "print(f\"Demora promedio: {out.avg_delay_minutes:.2f} minutos\")\n",
    "print(f\"Go-arounds: {out.go_arounds}\")\n",
    "print(f\"Tiempo total en congestión: {out.congestion_time} min\")\n"
   ]
  },
  {
   "cell_type": "code",
   "execution_count": 5,
   "id": "25cbee0d",
   "metadata": {},
   "outputs": [
    {
     "name": "stdout",
     "output_type": "stream",
     "text": [
      "WARNING: Avión 1 aterrizó en 22.00 min (ideal 23.40), delay negativo -1.40\n",
      "WARNING: Avión 4 aterrizó en 22.00 min (ideal 23.40), delay negativo -1.40\n",
      "WARNING: Avión 5 aterrizó en 23.00 min (ideal 23.40), delay negativo -0.40\n",
      "WARNING: Avión 6 aterrizó en 23.00 min (ideal 23.40), delay negativo -0.40\n",
      "WARNING: Avión 7 aterrizó en 22.00 min (ideal 23.40), delay negativo -1.40\n",
      "WARNING: Avión 9 aterrizó en 22.00 min (ideal 23.40), delay negativo -1.40\n",
      "WARNING: Avión 11 aterrizó en 22.00 min (ideal 23.40), delay negativo -1.40\n",
      "WARNING: Avión 12 aterrizó en 22.00 min (ideal 23.40), delay negativo -1.40\n",
      "WARNING: Avión 13 aterrizó en 22.00 min (ideal 23.40), delay negativo -1.40\n",
      "WARNING: Avión 15 aterrizó en 22.00 min (ideal 23.40), delay negativo -1.40\n",
      "WARNING: Avión 16 aterrizó en 22.00 min (ideal 23.40), delay negativo -1.40\n",
      "WARNING: Avión 17 aterrizó en 22.00 min (ideal 23.40), delay negativo -1.40\n",
      "WARNING: Avión 19 aterrizó en 22.00 min (ideal 23.40), delay negativo -1.40\n",
      "WARNING: Avión 21 aterrizó en 22.00 min (ideal 23.40), delay negativo -1.40\n",
      "WARNING: Avión 22 aterrizó en 22.00 min (ideal 23.40), delay negativo -1.40\n",
      "WARNING: Avión 23 aterrizó en 22.00 min (ideal 23.40), delay negativo -1.40\n",
      "WARNING: Avión 25 aterrizó en 22.00 min (ideal 23.40), delay negativo -1.40\n",
      "WARNING: Avión 26 aterrizó en 22.00 min (ideal 23.40), delay negativo -1.40\n",
      "WARNING: Avión 27 aterrizó en 22.00 min (ideal 23.40), delay negativo -1.40\n",
      "WARNING: Avión 28 aterrizó en 22.00 min (ideal 23.40), delay negativo -1.40\n",
      "WARNING: Avión 29 aterrizó en 22.00 min (ideal 23.40), delay negativo -1.40\n",
      "WARNING: Avión 30 aterrizó en 22.00 min (ideal 23.40), delay negativo -1.40\n",
      "WARNING: Avión 32 aterrizó en 22.00 min (ideal 23.40), delay negativo -1.40\n",
      "WARNING: Avión 34 aterrizó en 22.00 min (ideal 23.40), delay negativo -1.40\n",
      "WARNING: Avión 36 aterrizó en 22.00 min (ideal 23.40), delay negativo -1.40\n",
      "WARNING: Avión 41 aterrizó en 22.00 min (ideal 23.40), delay negativo -1.40\n",
      "WARNING: Avión 42 aterrizó en 22.00 min (ideal 23.40), delay negativo -1.40\n",
      "WARNING: Avión 43 aterrizó en 22.00 min (ideal 23.40), delay negativo -1.40\n",
      "WARNING: Avión 45 aterrizó en 22.00 min (ideal 23.40), delay negativo -1.40\n",
      "WARNING: Avión 48 aterrizó en 23.00 min (ideal 23.40), delay negativo -0.40\n",
      "WARNING: Avión 50 aterrizó en 22.00 min (ideal 23.40), delay negativo -1.40\n",
      "WARNING: Avión 52 aterrizó en 22.00 min (ideal 23.40), delay negativo -1.40\n",
      "WARNING: Avión 54 aterrizó en 22.00 min (ideal 23.40), delay negativo -1.40\n",
      "WARNING: Avión 56 aterrizó en 23.00 min (ideal 23.40), delay negativo -0.40\n",
      "WARNING: Avión 58 aterrizó en 22.00 min (ideal 23.40), delay negativo -1.40\n",
      "WARNING: Avión 59 aterrizó en 22.00 min (ideal 23.40), delay negativo -1.40\n",
      "WARNING: Avión 61 aterrizó en 22.00 min (ideal 23.40), delay negativo -1.40\n",
      "WARNING: Avión 63 aterrizó en 22.00 min (ideal 23.40), delay negativo -1.40\n",
      "WARNING: Avión 64 aterrizó en 22.00 min (ideal 23.40), delay negativo -1.40\n",
      "WARNING: Avión 65 aterrizó en 22.00 min (ideal 23.40), delay negativo -1.40\n",
      "WARNING: Avión 66 aterrizó en 22.00 min (ideal 23.40), delay negativo -1.40\n",
      "WARNING: Avión 68 aterrizó en 22.00 min (ideal 23.40), delay negativo -1.40\n",
      "WARNING: Avión 69 aterrizó en 22.00 min (ideal 23.40), delay negativo -1.40\n",
      "WARNING: Avión 70 aterrizó en 22.00 min (ideal 23.40), delay negativo -1.40\n",
      "WARNING: Avión 71 aterrizó en 22.00 min (ideal 23.40), delay negativo -1.40\n",
      "WARNING: Avión 72 aterrizó en 22.00 min (ideal 23.40), delay negativo -1.40\n",
      "WARNING: Avión 74 aterrizó en 22.00 min (ideal 23.40), delay negativo -1.40\n",
      "WARNING: Avión 76 aterrizó en 22.00 min (ideal 23.40), delay negativo -1.40\n",
      "WARNING: Avión 77 aterrizó en 22.00 min (ideal 23.40), delay negativo -1.40\n",
      "WARNING: Avión 78 aterrizó en 22.00 min (ideal 23.40), delay negativo -1.40\n",
      "WARNING: Avión 79 aterrizó en 22.00 min (ideal 23.40), delay negativo -1.40\n",
      "WARNING: Avión 80 aterrizó en 22.00 min (ideal 23.40), delay negativo -1.40\n",
      "WARNING: Avión 81 aterrizó en 22.00 min (ideal 23.40), delay negativo -1.40\n",
      "WARNING: Avión 84 aterrizó en 22.00 min (ideal 23.40), delay negativo -1.40\n",
      "WARNING: Avión 85 aterrizó en 22.00 min (ideal 23.40), delay negativo -1.40\n",
      "WARNING: Avión 86 aterrizó en 22.00 min (ideal 23.40), delay negativo -1.40\n",
      "WARNING: Avión 89 aterrizó en 22.00 min (ideal 23.40), delay negativo -1.40\n",
      "WARNING: Avión 91 aterrizó en 22.00 min (ideal 23.40), delay negativo -1.40\n",
      "WARNING: Avión 93 aterrizó en 22.00 min (ideal 23.40), delay negativo -1.40\n",
      "WARNING: Avión 95 aterrizó en 22.00 min (ideal 23.40), delay negativo -1.40\n",
      "WARNING: Avión 96 aterrizó en 22.00 min (ideal 23.40), delay negativo -1.40\n",
      "WARNING: Avión 97 aterrizó en 22.00 min (ideal 23.40), delay negativo -1.40\n",
      "WARNING: Avión 100 aterrizó en 23.00 min (ideal 23.40), delay negativo -0.40\n",
      "WARNING: Avión 101 aterrizó en 22.00 min (ideal 23.40), delay negativo -1.40\n",
      "WARNING: Avión 102 aterrizó en 22.00 min (ideal 23.40), delay negativo -1.40\n",
      "WARNING: Avión 103 aterrizó en 22.00 min (ideal 23.40), delay negativo -1.40\n",
      "WARNING: Avión 105 aterrizó en 22.00 min (ideal 23.40), delay negativo -1.40\n",
      "WARNING: Avión 107 aterrizó en 22.00 min (ideal 23.40), delay negativo -1.40\n",
      "WARNING: Avión 108 aterrizó en 22.00 min (ideal 23.40), delay negativo -1.40\n",
      "WARNING: Avión 109 aterrizó en 22.00 min (ideal 23.40), delay negativo -1.40\n",
      "WARNING: Avión 110 aterrizó en 22.00 min (ideal 23.40), delay negativo -1.40\n",
      "WARNING: Avión 111 aterrizó en 22.00 min (ideal 23.40), delay negativo -1.40\n",
      "WARNING: Avión 113 aterrizó en 22.00 min (ideal 23.40), delay negativo -1.40\n",
      "WARNING: Avión 114 aterrizó en 22.00 min (ideal 23.40), delay negativo -1.40\n"
     ]
    }
   ],
   "source": [
    "delays = []\n",
    "for a in out.aircraft_log:\n",
    "    if getattr(a, \"status\", None) == \"landed\":\n",
    "        ideal = ideal_time_minutes()\n",
    "        real_time = a.landing_minute - a.spawn_minute\n",
    "        delay = real_time - ideal\n",
    "        if delay < 0:\n",
    "            print(f\"WARNING: Avión {a.id} aterrizó en {real_time:.2f} min (ideal {ideal:.2f}), delay negativo {delay:.2f}\")\n",
    "        delays.append(delay)"
   ]
  },
  {
   "cell_type": "markdown",
   "id": "c9182e33",
   "metadata": {},
   "source": [
    "#### Gráfico 1: Línea del tiempo de aterrizajes"
   ]
  },
  {
   "cell_type": "code",
   "execution_count": null,
   "id": "ce03a047",
   "metadata": {},
   "outputs": [],
   "source": [
    "plt.figure(figsize=(30,3))\n",
    "y = np.zeros(len(out.timeline_landings))\n",
    "plt.scatter(out.timeline_landings, y, s=10)\n",
    "plt.yticks([]); plt.xlabel('Minuto'); plt.title('Aterrizajes en el día')\n",
    "plt.show()"
   ]
  },
  {
   "cell_type": "markdown",
   "id": "0cb8613a",
   "metadata": {},
   "source": [
    "Esto indica que el sistema está funcionando de manera ordenada y no hay acumulación ni congestión significativa.\n",
    "\n",
    "Si la simulación tiene λ bajo y no hay eventos disruptivos, los aterrizajes deberían verse así, espaciados y regulares.\n",
    "Si se aumenta λ o agregás congestión, deberían verse puntos más juntos o agrupados."
   ]
  },
  {
   "cell_type": "markdown",
   "id": "c9249142",
   "metadata": {},
   "source": [
    "## Ejercicio 2"
   ]
  },
  {
   "cell_type": "markdown",
   "id": "1344c2c3",
   "metadata": {},
   "source": [
    "En el modelo, λ es la probabilidad de arribo por minuto.\n",
    "\n",
    "Esperanza por hora = 60·λ. \n",
    "\n",
    "Si el promedio es 1 avión/hora: 60·λ = 1 ⇒ λ = 1/60 ≈ 0.0167 por minuto (≈ 1.67% por minuto)."
   ]
  },
  {
   "cell_type": "markdown",
   "id": "25560638",
   "metadata": {},
   "source": [
    "## Ejercicio 3\n",
    "Probabilidad de 5 arribos en una hora"
   ]
  },
  {
   "cell_type": "code",
   "execution_count": null,
   "id": "4be4cf90",
   "metadata": {},
   "outputs": [],
   "source": [
    "# Simulacion suficientemente larga\n",
    "cfgs = [SimulationConfig(lambda_per_min=1/60, seed=123+i, duration_minutes=60) for i in range(200000)]\n",
    "results = [AEPSimulator(cfg).run() for cfg in cfgs]\n",
    "prob_5 = np.mean([r.landed == 5 for r in results])\n",
    "print(f\"P(X=5) = {prob_5:.6f}\")"
   ]
  },
  {
   "cell_type": "code",
   "execution_count": null,
   "id": "83f5c065",
   "metadata": {},
   "outputs": [],
   "source": [
    "\n",
    "# Parámetros\n",
    "n = 60              # 60 minutos\n",
    "p = 1/60            # prob. por minuto\n",
    "k = 5               # queremos 5 aterizajes en una hora\n",
    "\n",
    "# Cálculo Analítico: Binomial(n=60, p=1/60)\n",
    "binom_pmf = comb(n, k) * (p**k) * ((1-p)**(n-k))\n",
    "\n",
    "# Aprox Poisson con lambda=1 por hora\n",
    "lam = 1.0\n",
    "poiss_pmf = exp(-lam) * (lam**k) / factorial(k)\n",
    "\n",
    "# Monte Carlo analitico\n",
    "rng = np.random.default_rng(123)\n",
    "N = 200000\n",
    "samples = rng.binomial(n=n, p=p, size=N)\n",
    "mc_est = np.mean(samples == k)\n",
    "mc_se  = np.sqrt(mc_est*(1-mc_est)/N)  # error estándar\n",
    " \n",
    "print(f\"P(X=5) Binomial exacta = {binom_pmf:.6f}\")\n",
    "print(f\"P(X=5) Poisson(1) = {poiss_pmf:.6f}\")\n",
    "print(f\"P(X=5) Monte Carlo = {mc_est:.6f} ± {1.96*mc_se:.6f} (95% IC)\")\n"
   ]
  },
  {
   "cell_type": "markdown",
   "id": "d30f352e",
   "metadata": {},
   "source": [
    "## Ejercicio 4\n",
    "Experimentos para varios $\\lambda$ (promedios y error estándar)"
   ]
  },
  {
   "cell_type": "code",
   "execution_count": null,
   "id": "5416e2cd",
   "metadata": {},
   "outputs": [],
   "source": [
    "lams = [0.02, 0.1, 0.2, 0.5, 1.0]\n",
    "res = run_batch(lams, reps=20, seed=123)"
   ]
  },
  {
   "cell_type": "code",
   "execution_count": null,
   "id": "40006d27",
   "metadata": {},
   "outputs": [],
   "source": [
    "print(\"Resultados promedio por λ:\")\n",
    "for lam, stats in res.items():\n",
    "    print(f\"\\nλ = {lam}\")\n",
    "    print(f\"Aterrizados: {stats['landed_mean']:.2f} ± {stats['landed_se']:.2f}\")\n",
    "    print(f\"Desviados a Montevideo: {stats['diverted_mean']:.2f} ± {stats['diverted_se']:.2f}\")\n",
    "    print(f\"Demora promedio: {stats['avg_delay_mean']:.2f} ± {stats['avg_delay_se']:.2f}\")\n",
    "    print(f\"Go-arounds: {stats['go_around_mean']:.2f} ± {stats['go_around_se']:.2f}\")\n"
   ]
  },
  {
   "cell_type": "markdown",
   "id": "9bd7c3f1",
   "metadata": {},
   "source": [
    "#### Análisis completo de congestión y métricas"
   ]
  },
  {
   "cell_type": "code",
   "execution_count": null,
   "id": "88fcf345",
   "metadata": {},
   "outputs": [],
   "source": [
    "def analyze_congestion(lams, reps=100, seed=123):\n",
    "    \"\"\"\n",
    "    Analiza congestión, atrasos y desvíos para diferentes valores de lambda\n",
    "    \"\"\"\n",
    "    results = []\n",
    "    rng = np.random.default_rng(seed)\n",
    "    \n",
    "    for lam in lams:\n",
    "        delays = []\n",
    "        diversions = []\n",
    "        congestions = []\n",
    "        \n",
    "        for rep in range(reps):\n",
    "            # Convertir a int de Python para que sea compatible con random.seed()\n",
    "            seed_value = int(rng.integers(1000000))\n",
    "            cfg = SimulationConfig(lambda_per_min=lam, seed=seed_value)\n",
    "            sim = AEPSimulator(cfg)\n",
    "            out = sim.run()\n",
    "           \n",
    "            # Calcular métricas\n",
    "            delays.append(np.mean(out.delays) if out.delays else 0)\n",
    "            diversions.append(out.diverted / (out.landed + out.diverted))\n",
    "            \n",
    "            # Calcular congestión (si hay aviones volando más lento que su velocidad máxima)\n",
    "            # Esto asume que tenemos acceso a la velocidad actual vs máxima en cada paso\n",
    "            if hasattr(out, 'congestion_time'):\n",
    "                congestions.append(out.congestion_time / motor.OPERATION_MINUTES)\n",
    "            else:\n",
    "                congestions.append(0)\n",
    "                   \n",
    "        # Calcular estadísticas con error de estimación (IC 95%)\n",
    "        mean_delay = np.mean(delays)\n",
    "        delay_ci = 1.96 * np.std(delays) / np.sqrt(reps)\n",
    "        \n",
    "        diversion_rate = np.mean(diversions)\n",
    "        div_ci = 1.96 * np.std(diversions) / np.sqrt(reps)\n",
    "        \n",
    "        mean_congestion = np.mean(congestions)\n",
    "        cong_ci = 1.96 * np.std(congestions) / np.sqrt(reps)\n",
    "        \n",
    "        results.append({\n",
    "            'lambda': lam,\n",
    "            'mean_delay': (mean_delay, delay_ci),\n",
    "            'diversion_rate': (diversion_rate, div_ci),\n",
    "            'congestion_rate': (mean_congestion, cong_ci)\n",
    "        })\n",
    "    \n",
    "    return results\n",
    "\n",
    "# Correr análisis con más repeticiones\n",
    "results = analyze_congestion(lams, reps=100, seed=123)\n",
    "\n",
    "# Mostrar resultados\n",
    "print(\"Análisis detallado por λ:\")\n",
    "print(\"-\" * 50)\n",
    "for r in results:\n",
    "    print(f\"\\nλ = {r['lambda']}\")\n",
    "    print(f\"Atraso promedio: {r['mean_delay'][0]:.2f} ± {r['mean_delay'][1]:.2f} min\")\n",
    "    print(f\"Tasa de desvíos: {r['diversion_rate'][0]:.3%} ± {r['diversion_rate'][1]:.3%}\")\n",
    "    print(f\"Tasa de congestión: {r['congestion_rate'][0]:.3%} ± {r['congestion_rate'][1]:.3%}\")"
   ]
  },
  {
   "cell_type": "markdown",
   "id": "65647aa6",
   "metadata": {},
   "source": [
    "Sí, al aumentar λ sube la frecuencia de congestión (proporción de minutos en congestión). \n",
    "\n",
    "En los resultados, los valores de ‘Tasa de congestión’ crecen con λ (son ≈0 para λ muy bajo y positivos a medida que λ aumenta).\n",
    "\n",
    "Se ve gráficamente en el gráfico “Métricas vs λ”, la curva “Tasa de congestión” es creciente con λ."
   ]
  },
  {
   "cell_type": "markdown",
   "id": "1bc2eadd",
   "metadata": {},
   "source": [
    "El atraso promedio actualmente es 0.30 minutos, que confirma que hay demoras por la separación junto a la congestión del modelo.\n",
    "\n",
    "Si no hubiera congestión, el atraso sería = 0."
   ]
  },
  {
   "cell_type": "markdown",
   "id": "c3c926cd",
   "metadata": {},
   "source": [
    "#### Gráfico 2: Comparación \"sin congestión\""
   ]
  },
  {
   "cell_type": "code",
   "execution_count": null,
   "id": "2624b761",
   "metadata": {},
   "outputs": [],
   "source": [
    "lam_base = 0.1  # λ actual del sistema\n",
    "lam_low = 0.005  #  simula \"sin congestión\"\n",
    "if lam_base <= lam_low:\n",
    "    lam_low = max(lam_base/5, 1/1200)  # asegurar que sea más bajo que el actual\n",
    "\n",
    "res_cmp = run_batch([lam_low, lam_base], reps=50, seed=2025)\n",
    "\n",
    "xs = [lam_low, lam_base]\n",
    "y  = [res_cmp[lam_low]['avg_delay_mean'], res_cmp[lam_base]['avg_delay_mean']]\n",
    "e  = [res_cmp[lam_low]['avg_delay_se'],   res_cmp[lam_base]['avg_delay_se']]\n",
    "\n",
    "plt.figure(figsize=(8,4))\n",
    "plt.errorbar(xs, y, yerr=e, fmt='o-', capsize=4, label='Atraso promedio ± SE')\n",
    "plt.axhline(0, color='gray', ls='--', lw=1, label='Sin congestión (0 min)')\n",
    "plt.xticks(xs, [f'λ={lam_low:.3f}', f'λ={lam_base:.3f}'])\n",
    "plt.ylabel('Atraso promedio (min)')\n",
    "plt.title('Atraso promedio: λ bajo vs λ actual')\n",
    "plt.grid(True, alpha=0.3)\n",
    "plt.legend()\n",
    "plt.show()\n",
    "\n",
    "print(f\"λ bajo: {lam_low:.4f} -> atraso = {y[0]:.3f} ± {e[0]:.3f} min\")\n",
    "print(f\"λ actual: {lam_base:.4f} -> atraso = {y[1]:.3f} ± {e[1]:.3f} min\")"
   ]
  },
  {
   "cell_type": "markdown",
   "id": "127af08b",
   "metadata": {},
   "source": [
    "En λ_low el atraso es ~0 min. \n",
    "En λ_base (0.1) el atraso medio es ~0.3 min y está claramente por encima de 0.\n",
    "Entonces, la congestión introduce atraso adicional."
   ]
  },
  {
   "cell_type": "markdown",
   "id": "b6086347",
   "metadata": {},
   "source": [
    "#### Más visualizaciones"
   ]
  },
  {
   "cell_type": "code",
   "execution_count": null,
   "id": "415394e1",
   "metadata": {},
   "outputs": [],
   "source": [
    "# Preparar datos para visualización\n",
    "delay_data = []\n",
    "diversion_data = []\n",
    "congestion_data = []\n",
    "\n",
    "for r in results:\n",
    "    lam = r['lambda']\n",
    "    delay_data.append({'lambda': lam, 'value': r['mean_delay'][0], 'metric': 'Atraso promedio'})\n",
    "    diversion_data.append({'lambda': lam, 'value': r['diversion_rate'][0], 'metric': 'Tasa de desvíos'})\n",
    "    congestion_data.append({'lambda': lam, 'value': r['congestion_rate'][0], 'metric': 'Tasa de congestión'})\n",
    "\n",
    "all_data = pd.DataFrame(delay_data + diversion_data + congestion_data)\n",
    "\n",
    "# Gráfico 3, de líneas para todas las métricas\n",
    "plt.figure(figsize=(12, 6))\n",
    "sns.lineplot(data=all_data, x='lambda', y='value', hue='metric', marker='o')\n",
    "plt.title('Métricas según λ')\n",
    "plt.xlabel('λ (arribos/minuto)')\n",
    "plt.ylabel('Valor')\n",
    "plt.grid(True)\n",
    "plt.show()\n",
    "\n",
    "# Boxplot de atrasos por λ, Gráfico 4\n",
    "delays_by_lambda = {lam: [] for lam in lams}\n",
    "for lam in lams:\n",
    "    for _ in range(20):  # Menos repeticiones para el boxplot\n",
    "        cfg = SimulationConfig(lambda_per_min=lam, seed=np.random.randint(1000000))\n",
    "        sim = AEPSimulator(cfg)\n",
    "        out = sim.run()\n",
    "        if out.delays:\n",
    "            delays_by_lambda[lam].extend(out.delays)\n",
    "\n",
    "plt.figure(figsize=(12, 6))\n",
    "box_data = [delays_by_lambda[lam] for lam in lams]\n",
    "plt.boxplot(box_data, labels=[f'λ={lam}' for lam in lams])\n",
    "plt.title('Distribución de atrasos por λ')\n",
    "plt.ylabel('Atraso (minutos)')\n",
    "plt.grid(True)\n",
    "plt.show()"
   ]
  },
  {
   "cell_type": "markdown",
   "id": "8fa58c7e",
   "metadata": {},
   "source": [
    "El atraso típico por vuelo aterrizado es bajo (mediana ≈ 0), pero la variabilidad y eventos extremos crecen en λ intermedios; en λ muy altos, la congestión se expresa sobre todo como más desvíos, no como más atraso de los aterrizados."
   ]
  },
  {
   "cell_type": "markdown",
   "id": "287fdc11",
   "metadata": {},
   "source": [
    "Según los lambdas, la frecuencia de los desvíos a Montevideo son los siguientes:\n",
    "\n",
    "λ = 0.02\n",
    "\n",
    "Tasa de desvíos: 1.407% ± 0.485%\n",
    "\n",
    "λ = 0.1\n",
    "\n",
    "Tasa de desvíos: 23.587% ± 0.739%\n",
    "\n",
    "λ = 0.2\n",
    "\n",
    "Tasa de desvíos: 45.016% ± 0.454%\n",
    "\n",
    "λ = 0.5\n",
    "\n",
    "Tasa de desvíos: 69.231% ± 0.156%\n",
    "\n",
    "λ = 1.0\n",
    "\n",
    "Tasa de desvíos: 83.223% ± 0.000%"
   ]
  },
  {
   "cell_type": "markdown",
   "id": "b9333581",
   "metadata": {},
   "source": [
    "## Ejercicio 5\n",
    "Día ventoso (10% interrupciones por avión)"
   ]
  },
  {
   "cell_type": "code",
   "execution_count": null,
   "id": "d6f3ca81",
   "metadata": {},
   "outputs": [],
   "source": [
    "# Recargar el módulo para aplicar los cambios\n",
    "importlib.reload(motor)"
   ]
  },
  {
   "cell_type": "code",
   "execution_count": null,
   "id": "ed98ce6e",
   "metadata": {},
   "outputs": [],
   "source": [
    "res_windy = run_batch(lams, reps=20, seed=2026, windy_day=True)"
   ]
  },
  {
   "cell_type": "code",
   "execution_count": null,
   "id": "481202bc",
   "metadata": {},
   "outputs": [],
   "source": [
    "print(\"Resultados de la simulación en día ventoso:\\n\")\n",
    "for lam, stats in res_windy.items():\n",
    "    print(f\"λ = {lam}\")\n",
    "    print(f\"Aterrizados: {stats['landed_mean']:.2f} ± {stats['landed_se']:.2f}\")\n",
    "    print(f\"Desvíos a Montevideo: {stats['diverted_mean']:.2f} ± {stats['diverted_se']:.2f}\")\n",
    "    print(f\"Atraso promedio: {stats['avg_delay_mean']:.2f} ± {stats['avg_delay_se']:.2f} min\")\n",
    "    print(f\"Go-arounds: {stats['go_around_mean']:.2f} ± {stats['go_around_se']:.2f}\")\n",
    "    print(\"-\"*50)"
   ]
  },
  {
   "cell_type": "markdown",
   "id": "31609205",
   "metadata": {},
   "source": [
    "Para λ bajo (≈0.02) el atraso promedio de los que aterrizan es ~0 min; sólo aparecen outliers raros.\n",
    "\n",
    "Al subir a λ=0.1–0.2 aumenta la congestión, el atraso medio crece (en tu corrida ronda ~0.2–0.5 min) y aparecen más esperas largas (10–25 min) como outliers.\n",
    "\n",
    "En λ altos (≥0.5) el atraso promedio de los aterrizados no sigue creciendo y queda cerca de 0, el sistema saturado lo compensa con más desvíos/go-arounds, no con más espera de los que sí aterrizan."
   ]
  },
  {
   "cell_type": "code",
   "execution_count": null,
   "id": "24682dbc",
   "metadata": {},
   "outputs": [],
   "source": [
    "# Preparación de datos\n",
    "lams = list(res_windy.keys())\n",
    "\n",
    "landed = [res_windy[l]['landed_mean'] for l in lams]\n",
    "landed_err = [res_windy[l]['landed_se'] for l in lams]\n",
    "\n",
    "diverted = [res_windy[l]['diverted_mean'] for l in lams]\n",
    "diverted_err = [res_windy[l]['diverted_se'] for l in lams]\n",
    "\n",
    "go_around = [res_windy[l]['go_around_mean'] for l in lams]\n",
    "go_around_err = [res_windy[l]['go_around_se'] for l in lams]\n",
    "\n",
    "delay = [res_windy[l]['avg_delay_mean'] for l in lams]\n",
    "delay_err = [res_windy[l]['avg_delay_se'] for l in lams]\n",
    "\n",
    "# Gráfico 5: aterrizados, desvíos y go-arounds\n",
    "plt.figure(figsize=(10,6))\n",
    "plt.errorbar(lams, landed, yerr=landed_err, fmt='-o', label=\"Aterrizados\")\n",
    "plt.errorbar(lams, diverted, yerr=diverted_err, fmt='-o', label=\"Desvíos a Montevideo\")\n",
    "plt.errorbar(lams, go_around, yerr=go_around_err, fmt='-o', label=\"Go-arounds\")\n",
    "plt.title(\"Resultados en día ventoso según λ\")\n",
    "plt.xlabel(\"λ (probabilidad de arribo por minuto)\")\n",
    "plt.ylabel(\"Cantidad promedio\")\n",
    "plt.legend()\n",
    "plt.grid(True)\n",
    "plt.show()\n",
    "\n",
    "# Gráfico 6: atraso promedio\n",
    "plt.figure(figsize=(10,6))\n",
    "plt.errorbar(lams, delay, yerr=delay_err, fmt='-o', color=\"red\", label=\"Atraso promedio\")\n",
    "plt.axhline(0, color=\"gray\", linestyle=\"--\", linewidth=1)\n",
    "plt.title(\"Atraso promedio en día ventoso según λ\")\n",
    "plt.xlabel(\"λ (probabilidad de arribo por minuto)\")\n",
    "plt.ylabel(\"Atraso promedio (min)\")\n",
    "plt.legend()\n",
    "plt.grid(True)\n",
    "plt.show()"
   ]
  },
  {
   "cell_type": "markdown",
   "id": "76ce815c",
   "metadata": {},
   "source": [
    "## Ejercicio 6 \n",
    "Cierre sorpresivo de 30 min --> minutos 360 a 390."
   ]
  },
  {
   "cell_type": "code",
   "execution_count": null,
   "id": "b858f45a",
   "metadata": {},
   "outputs": [],
   "source": [
    "res_closure = run_batch(lams, reps=20, seed=123, closure_window=(360, 390))"
   ]
  },
  {
   "cell_type": "code",
   "execution_count": null,
   "id": "9ae5dab0",
   "metadata": {},
   "outputs": [],
   "source": [
    "print(\"Resultados de la simulación con tormenta (AEP cerrado 30 min)\\n\")\n",
    "for lam, stats in res_closure.items():\n",
    "    print(f\"λ = {lam}\")\n",
    "    print(f\"Aterrizados: {stats['landed_mean']:.2f} ± {stats['landed_se']:.2f}\")\n",
    "    print(f\"Desvíos a Montevideo: {stats['diverted_mean']:.2f} ± {stats['diverted_se']:.2f}\")\n",
    "    print(f\"Atraso promedio: {stats['avg_delay_mean']:.2f} ± {stats['avg_delay_se']:.2f} min\")\n",
    "    print(f\"Go-arounds: {stats['go_around_mean']:.2f} ± {stats['go_around_se']:.2f}\")\n",
    "    print(\"-\"*55)"
   ]
  },
  {
   "cell_type": "markdown",
   "id": "1a8b77df",
   "metadata": {},
   "source": [
    "Atraso promedio (de los que aterrizan):\n",
    "- ~0 min en λ bajos\n",
    "- sube a ~0.2–0.5 min alrededor de λ=0.1–0.2 \n",
    "- en λ altos (≥0.5) vuelve a ~0 porque el sistema compensa con más desvíos/go-arounds.\n",
    "\n",
    "\n",
    "Tasa de congestión: \n",
    "- ~0 con λ muy bajo y aumenta monótonamente con λ.\n",
    "\n",
    "\n",
    "Go-arounds: \n",
    "- aumentan con λ y contribuyen a que el atraso de los aterrizados no crezca en saturación.\n",
    "\n",
    "Aterrizados: \n",
    "- disminuyen al subir λ (capacidad fija), especialmente cuando hay cierre/ventoso."
   ]
  },
  {
   "cell_type": "code",
   "execution_count": null,
   "id": "5649289c",
   "metadata": {},
   "outputs": [],
   "source": [
    "# Datos para graficar\n",
    "lams = list(res_closure.keys())\n",
    "\n",
    "landed = [res_closure[l]['landed_mean'] for l in lams]\n",
    "landed_err = [res_closure[l]['landed_se'] for l in lams]\n",
    "\n",
    "diverted = [res_closure[l]['diverted_mean'] for l in lams]\n",
    "diverted_err = [res_closure[l]['diverted_se'] for l in lams]\n",
    "\n",
    "go_around = [res_closure[l]['go_around_mean'] for l in lams]\n",
    "go_around_err = [res_closure[l]['go_around_se'] for l in lams]\n",
    "\n",
    "delay = [res_closure[l]['avg_delay_mean'] for l in lams]\n",
    "delay_err = [res_closure[l]['avg_delay_se'] for l in lams]\n",
    "\n",
    "# Gráfico 7: Aterrizados, desvíos y go-arounds\n",
    "plt.figure(figsize=(10,6))\n",
    "plt.errorbar(lams, landed, yerr=landed_err, fmt='-o', label=\"Aterrizados\")\n",
    "plt.errorbar(lams, diverted, yerr=diverted_err, fmt='-o', label=\"Desvíos a Montevideo\")\n",
    "plt.errorbar(lams, go_around, yerr=go_around_err, fmt='-o', label=\"Go-arounds\")\n",
    "plt.title(\"Impacto de la tormenta (AEP cerrado 30 min)\")\n",
    "plt.xlabel(\"λ (probabilidad de arribo por minuto)\")\n",
    "plt.ylabel(\"Cantidad promedio de aviones\")\n",
    "plt.legend()\n",
    "plt.grid(True)\n",
    "plt.show()\n",
    "\n",
    "# Gráfico 8: Atraso promedio\n",
    "plt.figure(figsize=(10,6))\n",
    "plt.errorbar(lams, delay, yerr=delay_err, fmt='-o', color=\"red\", label=\"Atraso promedio\")\n",
    "plt.axhline(0, color=\"gray\", linestyle=\"--\", linewidth=1)\n",
    "plt.title(\"Atraso promedio con cierre de AEP por tormenta\")\n",
    "plt.xlabel(\"λ (probabilidad de arribo por minuto)\")\n",
    "plt.ylabel(\"Atraso promedio (min)\")\n",
    "plt.legend()\n",
    "plt.grid(True)\n",
    "plt.show()"
   ]
  }
 ],
 "metadata": {
  "kernelspec": {
   "display_name": "metodos",
   "language": "python",
   "name": "python3"
  },
  "language_info": {
   "codemirror_mode": {
    "name": "ipython",
    "version": 3
   },
   "file_extension": ".py",
   "mimetype": "text/x-python",
   "name": "python",
   "nbconvert_exporter": "python",
   "pygments_lexer": "ipython3",
   "version": "3.10.18"
  }
 },
 "nbformat": 4,
 "nbformat_minor": 5
}
