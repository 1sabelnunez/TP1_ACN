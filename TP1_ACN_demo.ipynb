{
 "cells": [
  {
   "cell_type": "markdown",
   "metadata": {},
   "source": [
    "# TP1 ACN 2025 – Simulación AEP\n",
    "Este notebook usa `aep_sim.py` y sigue el estilo de las clases (NumPy, Monte Carlo, matplotlib).\n",
    "\n",
    "## Contenidos\n",
    "1. Parámetros y funciones auxiliares\n",
    "2. Simulación base (sin eventos de clima)\n",
    "3. Experimentos para distintos $\\lambda\\in\\{0.02, 0.1, 0.2, 0.5, 1\\}$\n",
    "4. Día ventoso (interrupciones 10%)\n",
    "5. Cierre sorpresivo de 30 minutos\n",
    "6. Visualizaciones (timeline de aterrizajes, evolución de distancias)\n",
    "7. Resumen de métricas con error de estimación\n"
   ]
  },
  {
   "cell_type": "code",
   "execution_count": 6,
   "id": "afb9d2db",
   "metadata": {},
   "outputs": [
    {
     "data": {
      "text/plain": [
       "23.4"
      ]
     },
     "execution_count": 6,
     "metadata": {},
     "output_type": "execute_result"
    }
   ],
   "source": [
    "import numpy as np\n",
    "import matplotlib.pyplot as plt\n",
    "from importlib import reload\n",
    "import aep_sim; reload(aep_sim)\n",
    "from aep_sim import SimulationConfig, AEPSimulator, run_batch, ideal_time_minutes\n",
    "ideal_time_minutes()"
   ]
  },
  {
   "cell_type": "markdown",
   "id": "a705b032",
   "metadata": {},
   "source": [
    "### Simulación base\n",
    "Corramos una simulación con $\\lambda=0.1$ para visualizar resultados."
   ]
  },
  {
   "cell_type": "code",
   "execution_count": 7,
   "id": "65e5813a",
   "metadata": {},
   "outputs": [
    {
     "data": {
      "text/plain": [
       "(115, 0, 2.7304347826086968)"
      ]
     },
     "execution_count": 7,
     "metadata": {},
     "output_type": "execute_result"
    }
   ],
   "source": [
    "cfg = SimulationConfig(lambda_per_min=0.1, seed=42)\n",
    "sim = AEPSimulator(cfg)\n",
    "out = sim.run()\n",
    "out.landed, out.diverted, out.avg_delay_minutes"
   ]
  },
  {
   "cell_type": "markdown",
   "metadata": {},
   "source": [
    "### Timeline de aterrizajes"
   ]
  },
  {
   "cell_type": "code",
   "execution_count": 8,
   "metadata": {},
   "outputs": [
    {
     "data": {
      "image/png": "[encoded data removed]",
      "text/plain": [
       "<Figure size 1000x200 with 1 Axes>"
      ]
     },
     "metadata": {},
     "output_type": "display_data"
    }
   ],
   "source": [
    "plt.figure(figsize=(10,2))\n",
    "y = np.zeros(len(out.timeline_landings))\n",
    "plt.scatter(out.timeline_landings, y, s=10)\n",
    "plt.yticks([]); plt.xlabel('Minuto'); plt.title('Aterrizajes en el día')\n",
    "plt.show()"
   ]
  },
  {
   "cell_type": "markdown",
   "metadata": {},
   "source": [
    "### Experimentos para varios $\\lambda$ (promedios y error estándar)"
   ]
  },
  {
   "cell_type": "code",
   "execution_count": 9,
   "metadata": {},
   "outputs": [
    {
     "data": {
      "text/plain": [
       "{0.02: {'landed_mean': 22.45,\n",
       "  'landed_se': 1.129683234595573,\n",
       "  'diverted_mean': 0.0,\n",
       "  'diverted_se': 0.0,\n",
       "  'avg_delay_mean': -1.0012104926707317,\n",
       "  'avg_delay_se': 0.05425997800085318,\n",
       "  'go_around_mean': 4.15,\n",
       "  'go_around_se': 0.7081294856317258},\n",
       " 0.1: {'landed_mean': 104.3,\n",
       "  'landed_se': 1.6624332198696932,\n",
       "  'diverted_mean': 0.0,\n",
       "  'diverted_se': 0.0,\n",
       "  'avg_delay_mean': 2.2353357903130426,\n",
       "  'avg_delay_se': 0.269923686699631,\n",
       "  'go_around_mean': 225.6,\n",
       "  'go_around_se': 18.937348227635695},\n",
       " 0.2: {'landed_mean': 167.7,\n",
       "  'landed_se': 0.47627944031120834,\n",
       "  'diverted_mean': 0.0,\n",
       "  'diverted_se': 0.0,\n",
       "  'avg_delay_mean': 8.58389889008795,\n",
       "  'avg_delay_se': 0.5300631476180053,\n",
       "  'go_around_mean': 18161.55,\n",
       "  'go_around_se': 1826.5426723947478},\n",
       " 0.5: {'landed_mean': 173.9,\n",
       "  'landed_se': 0.2982404540317303,\n",
       "  'diverted_mean': 0.0,\n",
       "  'diverted_se': 0.0,\n",
       "  'avg_delay_mean': 0.7195613112276931,\n",
       "  'avg_delay_se': 0.0675667741684387,\n",
       "  'go_around_mean': 200187.7,\n",
       "  'go_around_se': 2337.9230594921773},\n",
       " 1.0: {'landed_mean': 177.0,\n",
       "  'landed_se': 0.0,\n",
       "  'diverted_mean': 0.0,\n",
       "  'diverted_se': 0.0,\n",
       "  'avg_delay_mean': -0.3209039548022584,\n",
       "  'avg_delay_se': 1.273513149771875e-17,\n",
       "  'go_around_mean': 485465.0,\n",
       "  'go_around_se': 0.0}}"
      ]
     },
     "execution_count": 9,
     "metadata": {},
     "output_type": "execute_result"
    }
   ],
   "source": [
    "lams = [0.02, 0.1, 0.2, 0.5, 1.0]\n",
    "res = run_batch(lams, reps=20, seed=123)\n",
    "res"
   ]
  },
  {
   "cell_type": "markdown",
   "metadata": {},
   "source": [
    "### Día ventoso (10% interrupciones por avión)"
   ]
  },
  {
   "cell_type": "code",
   "execution_count": 10,
   "metadata": {},
   "outputs": [
    {
     "data": {
      "text/plain": [
       "{0.02: {'landed_mean': 22.1,\n",
       "  'landed_se': 1.090388631828603,\n",
       "  'diverted_mean': 0.0,\n",
       "  'diverted_se': 0.0,\n",
       "  'avg_delay_mean': -0.8512645817437161,\n",
       "  'avg_delay_se': 0.08170943824692864,\n",
       "  'go_around_mean': 6.15,\n",
       "  'go_around_se': 0.7155233638467203},\n",
       " 0.1: {'landed_mean': 103.9,\n",
       "  'landed_se': 1.36478261234065,\n",
       "  'diverted_mean': 0.0,\n",
       "  'diverted_se': 0.0,\n",
       "  'avg_delay_mean': 3.787840662819472,\n",
       "  'avg_delay_se': 0.3388450371580886,\n",
       "  'go_around_mean': 289.75,\n",
       "  'go_around_se': 21.94800974072472},\n",
       " 0.2: {'landed_mean': 152.55,\n",
       "  'landed_se': 0.8567840727793794,\n",
       "  'diverted_mean': 0.0,\n",
       "  'diverted_se': 0.0,\n",
       "  'avg_delay_mean': 11.227482803568964,\n",
       "  'avg_delay_se': 0.4059956682128775,\n",
       "  'go_around_mean': 26261.5,\n",
       "  'go_around_se': 1758.5594186570347},\n",
       " 0.5: {'landed_mean': 155.2,\n",
       "  'landed_se': 0.5875909783980152,\n",
       "  'diverted_mean': 0.0,\n",
       "  'diverted_se': 0.0,\n",
       "  'avg_delay_mean': 5.7603835377046675,\n",
       "  'avg_delay_se': 0.2016390771732807,\n",
       "  'go_around_mean': 205943.35,\n",
       "  'go_around_se': 2509.425661145552},\n",
       " 1.0: {'landed_mean': 158.65,\n",
       "  'landed_se': 1.0742806650817192,\n",
       "  'diverted_mean': 0.0,\n",
       "  'diverted_se': 0.0,\n",
       "  'avg_delay_mean': 4.8917676650207556,\n",
       "  'avg_delay_se': 0.2953662121790733,\n",
       "  'go_around_mean': 494814.5,\n",
       "  'go_around_se': 677.41703512215}}"
      ]
     },
     "execution_count": 10,
     "metadata": {},
     "output_type": "execute_result"
    }
   ],
   "source": [
    "res_windy = run_batch(lams, reps=20, seed=123, windy_day=True)\n",
    "res_windy"
   ]
  },
  {
   "cell_type": "markdown",
   "metadata": {},
   "source": [
    "### Cierre sorpresivo de 30 min\n",
    "Ejemplo: cierre de 12:00 a 12:30 → minutos 360 a 390."
   ]
  },
  {
   "cell_type": "code",
   "execution_count": 11,
   "metadata": {},
   "outputs": [
    {
     "data": {
      "text/plain": [
       "{0.02: {'landed_mean': 22.45,\n",
       "  'landed_se': 1.129683234595573,\n",
       "  'diverted_mean': 0.0,\n",
       "  'diverted_se': 0.0,\n",
       "  'avg_delay_mean': -0.5865469146791484,\n",
       "  'avg_delay_se': 0.12343137916405145,\n",
       "  'go_around_mean': 4.9,\n",
       "  'go_around_se': 0.8822817308726159},\n",
       " 0.1: {'landed_mean': 104.3,\n",
       "  'landed_se': 1.6624332198696932,\n",
       "  'diverted_mean': 0.0,\n",
       "  'diverted_se': 0.0,\n",
       "  'avg_delay_mean': 3.6488887212584387,\n",
       "  'avg_delay_se': 0.4494281915768047,\n",
       "  'go_around_mean': 285.0,\n",
       "  'go_around_se': 30.466202153931334},\n",
       " 0.2: {'landed_mean': 162.0,\n",
       "  'landed_se': 0.6882472016116853,\n",
       "  'diverted_mean': 0.0,\n",
       "  'diverted_se': 0.0,\n",
       "  'avg_delay_mean': 9.616825328959173,\n",
       "  'avg_delay_se': 0.6350320419340368,\n",
       "  'go_around_mean': 21519.3,\n",
       "  'go_around_se': 1860.8749372553932},\n",
       " 0.5: {'landed_mean': 168.6,\n",
       "  'landed_se': 0.5591346697776559,\n",
       "  'diverted_mean': 0.0,\n",
       "  'diverted_se': 0.0,\n",
       "  'avg_delay_mean': 1.9240384221001345,\n",
       "  'avg_delay_se': 0.12876474535735333,\n",
       "  'go_around_mean': 203953.8,\n",
       "  'go_around_se': 2416.9131167015935},\n",
       " 1.0: {'landed_mean': 171.0,\n",
       "  'landed_se': 0.0,\n",
       "  'diverted_mean': 0.0,\n",
       "  'diverted_se': 0.0,\n",
       "  'avg_delay_mean': 0.9567251461988319,\n",
       "  'avg_delay_se': 0.0,\n",
       "  'go_around_mean': 489670.0,\n",
       "  'go_around_se': 0.0}}"
      ]
     },
     "execution_count": 11,
     "metadata": {},
     "output_type": "execute_result"
    }
   ],
   "source": [
    "res_closure = run_batch(lams, reps=20, seed=123, closure_window=(360, 390))\n",
    "res_closure"
   ]
  },
  {
   "cell_type": "markdown",
   "metadata": {},
   "source": [
    "## TODOs sugeridos (para llegar al 100% del enunciado)\n",
    "- Refinar la lógica de **reinserción** tras go-around: buscar explícitamente el primer hueco ≥10 min y forzar el giro cuando se cumpla y la distancia sea >5 mn.\n",
    "- Visualización de **trayectorias** (distancia vs. tiempo) para varios aviones en un mismo gráfico, coloreando por estado (approach, go-around, landed, diverted).\n",
    "- Cálculo de **probabilidad de 5 arribos en una hora** para el caso de $\\lambda$ que implica 1 avión/hora (comparar con Poisson/Binomial) y validarlo por simulación.\n",
    "- Medir **atraso promedio** con distribución completa (boxplots) y su error de estimación (IC 95%).\n"
   ]
  }
 ],
 "metadata": {
  "kernelspec": {
   "display_name": "base",
   "language": "python",
   "name": "python3"
  },
  "language_info": {
   "codemirror_mode": {
    "name": "ipython",
    "version": 3
   },
   "file_extension": ".py",
   "mimetype": "text/x-python",
   "name": "python",
   "nbconvert_exporter": "python",
   "pygments_lexer": "ipython3",
   "version": "3.12.4"
  }
 },
 "nbformat": 4,
 "nbformat_minor": 5
}
